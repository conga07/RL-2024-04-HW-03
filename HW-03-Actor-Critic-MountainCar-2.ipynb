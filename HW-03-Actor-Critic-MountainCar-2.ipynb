{
 "cells": [
  {
   "cell_type": "code",
   "execution_count": 1,
   "metadata": {},
   "outputs": [],
   "source": [
    "import gymnasium as gym\n",
    "import numpy as np\n",
    "import pandas as pd\n",
    "import matplotlib.pyplot as plt\n",
    "from tqdm import tqdm\n",
    "\n",
    "import math\n",
    "import random\n",
    "from collections import namedtuple, deque\n",
    "from itertools import count\n",
    "\n",
    "import torch\n",
    "import torch.nn as nn\n",
    "import torch.optim as optim\n",
    "import torch.nn.functional as F\n",
    "\n",
    "# import optuna"
   ]
  },
  {
   "cell_type": "code",
   "execution_count": 7,
   "metadata": {},
   "outputs": [],
   "source": [
    "# Полносвязная сеть для небольшого набора состояний\n",
    "# device = torch.device(\"cuda\" if torch.cuda.is_available() else \"cpu\")\n",
    "class ActorNet(nn.Module):\n",
    "    def __init__(self, n_observations, n_actions, hidden_dim=64):\n",
    "        super(ActorNet, self).__init__()\n",
    "        self.fc1 = nn.Linear(n_observations, hidden_dim)\n",
    "        self.fc2 = nn.Linear(hidden_dim, int(hidden_dim / 2))\n",
    "        self.fc3 = nn.Linear(int(hidden_dim / 2), int(hidden_dim / 4))\n",
    "        self.fc4 = nn.Linear(int(hidden_dim / 4), int(hidden_dim / 8))\n",
    "        self.p = nn.Linear(int(hidden_dim / 8), n_actions*2)\n",
    "    def forward(self, x):\n",
    "        x = F.relu(self.fc1(x))\n",
    "        x = F.relu(self.fc2(x))\n",
    "        x = F.relu(self.fc3(x))\n",
    "        x = F.relu(self.fc4(x))\n",
    "        x = self.p(x)\n",
    "        # Возвращаем параметры, описывающие распределение\n",
    "        return x[:1], torch.abs(x[1:])\n",
    "\n",
    "class CriticNet(nn.Module):\n",
    "    def __init__(self, n_observations, hidden_dim=16):\n",
    "        super(CriticNet, self).__init__()\n",
    "        self.fc1 = nn.Linear(n_observations, hidden_dim)\n",
    "        self.fc2 = nn.Linear(hidden_dim, int(hidden_dim / 2))\n",
    "        self.fc3 = nn.Linear(int(hidden_dim / 2), int(hidden_dim / 4))\n",
    "        self.fc4 = nn.Linear(int(hidden_dim / 4), int(hidden_dim / 8))\n",
    "        self.fc5 = nn.Linear(int(hidden_dim / 8), 1)\n",
    "    def forward(self, x):\n",
    "        x = F.relu(self.fc1(x))\n",
    "        x = F.relu(self.fc2(x))\n",
    "        x = F.relu(self.fc3(x))\n",
    "        x = F.relu(self.fc4(x))\n",
    "        x = F.relu(self.fc5(x))\n",
    "        return x"
   ]
  },
  {
   "cell_type": "code",
   "execution_count": 10,
   "metadata": {},
   "outputs": [],
   "source": [
    "# Агент для метода A2C\n",
    "class A2CAgent:\n",
    "    # Конструктор \n",
    "    def __init__(self, env, \n",
    "                 LR=0.001, DF=0.99, EPS_START=0.9, EPS_END=0.05, EPS_DECAY=100000, DEVICE='cpu', HDIM=16):\n",
    "        # Среда\n",
    "        self.env = env\n",
    "        # Скорость обучения\n",
    "        self.learning_rate = LR\n",
    "        # Величина дисконтирования\n",
    "        self.discount_factor = DF\n",
    "        # Выбор размещения нейронных сетей\n",
    "        self.device = DEVICE\n",
    "        # Определяем нейронные сети целевую и политики\n",
    "        # Первый параметр определяет количество наблюдений, второе число действий\n",
    "        self.n_observations = self.env.observation_space.shape[0]\n",
    "        self.n_actions = self.env.action_space.shape[0]\n",
    "        # self.actor = ActorNet(96, 3).to(self.device)\n",
    "        # self.critic = CriticNet(96).to(self.device)\n",
    "        self.actor = ActorNet(self.n_observations, self.n_actions, HDIM).to(self.device)\n",
    "        self.critic = CriticNet(self.n_observations, HDIM).to(self.device)\n",
    "        # Задаём оптимайзер для нейронной сети\n",
    "        self.actor_optimizer = optim.AdamW(self.actor.parameters(), lr=self.learning_rate)\n",
    "        self.critic_optimizer = optim.AdamW(self.critic.parameters(), lr=self.learning_rate)\n",
    "        # Длины траекторий по эпизодам\n",
    "        self.steps = []\n",
    "        # Итоговое вознаграждение по эпизодам\n",
    "        self.rewards = [],\n",
    "        self.epsilon = EPS_START\n",
    "        self.__eps_start = EPS_START\n",
    "        self.__eps_end = EPS_END\n",
    "        self.__eps_decay = EPS_DECAY\n",
    "    \n",
    "    # Оценка действия сетью Actor\n",
    "    def actor_action(self, state):\n",
    "        # with torch.no_grad():\n",
    "        state = torch.FloatTensor(state).to(self.device)\n",
    "        mean, std = self.actor(state)\n",
    "        dist = torch.distributions.Normal(mean, std)\n",
    "        # Эпсилон-жадная стратегия\n",
    "        if np.random.rand() < self.epsilon:\n",
    "            action = self.env.action_space.sample()\n",
    "            action = torch.FloatTensor(action).to(self.device)\n",
    "        else:\n",
    "            action = dist.sample()        \n",
    "        # action = dist.sample()\n",
    "        log_prob = dist.log_prob(action).sum(-1, keepdim=True)\n",
    "        return action.detach().to('cpu').numpy(), log_prob\n",
    "\n",
    "    \n",
    "    # Проигрываем эпизод \n",
    "    def __play_episode(self):\n",
    "        steps = 0\n",
    "        state, _ = self.env.reset()\n",
    "        done = False\n",
    "        states, actions, log_probs, rewards = [], [], [], []\n",
    "\n",
    "        while (not done):\n",
    "            action, log_prob = self.actor_action(state)\n",
    "            next_state, reward, terminated, truncated, _ = self.env.step(action)\n",
    "            done = terminated or truncated\n",
    "            states.append(state)\n",
    "            actions.append(action)\n",
    "            log_probs.append(log_prob)\n",
    "            rewards.append(reward)\n",
    "            state = next_state.squeeze()\n",
    "            steps += 1\n",
    "\n",
    "        # Сохраняем длину траектории\n",
    "        self.steps.append(steps)\n",
    "        # Сохраняем вознаграждение за эпизод            \n",
    "        self.rewards.append(sum(rewards))\n",
    "        # Расчитываем накопленное вознаграждение с учётом дисконтирования\n",
    "        cum_rewards = np.zeros_like(rewards)\n",
    "        discounted_reward = 0\n",
    "        for t in reversed(range(len(rewards))):\n",
    "            discounted_reward = rewards[t] + discounted_reward * self.discount_factor\n",
    "            cum_rewards[t] = discounted_reward\n",
    "        \n",
    "        return states, actions, log_probs, rewards, cum_rewards\n",
    "\n",
    "    # Обучение Агента\n",
    "    def train(self, num_episodes=50, logfreq=20):\n",
    "        # Обнуляем прошлый опыт\n",
    "        self.rewards, self.steps = [], []\n",
    "        for episode in tqdm(range(num_episodes)):\n",
    "            # Проигрываем эпизод с ограничением по длине траектории\n",
    "            states, actions, log_probs, rewards, cum_rewards = self.__play_episode()\n",
    "            # Переводим результаты в тензоры для обновления сетей Actor & Critic\n",
    "            states = torch.FloatTensor(np.array(states)).to(self.device)\n",
    "            actions = torch.FloatTensor(np.array(actions)).to(self.device)\n",
    "            log_probs = torch.cat(log_probs)\n",
    "            rewards = torch.FloatTensor(np.array(rewards)).to(self.device)\n",
    "            cum_rewards = torch.FloatTensor(cum_rewards).to(self.device)\n",
    "\n",
    "            # Обновляем Critic\n",
    "            self.critic_optimizer.zero_grad()\n",
    "            values = self.critic(states).squeeze()\n",
    "            critic_loss = F.mse_loss(values, cum_rewards)\n",
    "            critic_loss.sum().backward()\n",
    "            with torch.no_grad():\n",
    "                values = self.critic(states).squeeze()\n",
    "            self.critic_optimizer.step()\n",
    "\n",
    "            # Обновляем Actor\n",
    "            self.actor_optimizer.zero_grad()\n",
    "            # Рассчитываем advantages\n",
    "            advantages = cum_rewards - values\n",
    "            actor_loss = -(log_probs * advantages)\n",
    "            actor_loss.sum().backward()\n",
    "            self.actor_optimizer.step()\n",
    "            \n",
    "            # Уменьшаем критерий жадности\n",
    "            self.epsilon = self.__eps_end + (self.__eps_start - self.__eps_end) * \\\n",
    "                math.exp(-1. * sum(self.steps) / self.__eps_decay)\n",
    "            # Выводим результаты с заданной частотой\n",
    "            if (episode + 1)%logfreq == 0:\n",
    "                print(f\"Run episode {episode+1} with average reward {np.mean(self.rewards[-logfreq:]):.2f} and epsilon {self.epsilon:.4f}\", end=\"\\r\")\n",
    "    \n",
    "    # Отображаем результаты обучения\n",
    "    def plot_rewards(self, window_size=10):\n",
    "        # Сгладим графики\n",
    "        smoothed_rewards = pd.Series(self.rewards).rolling(window_size, min_periods=window_size).mean()\n",
    "        smoothed_steps = pd.Series(self.steps).rolling(window_size, min_periods=window_size).mean()\n",
    "\n",
    "        plt.figure(figsize=(8, 12))\n",
    "        plt.subplot(2, 1, 1)\n",
    "        plt.plot(self.rewards)\n",
    "        plt.plot(smoothed_rewards)\n",
    "        plt.xlabel('Эпизод')\n",
    "        plt.ylabel('Суммарное вознаграждение')\n",
    "        plt.title('Оценка вознаграждения')\n",
    "\n",
    "        plt.subplot(2, 1, 2)\n",
    "        plt.plot(self.steps)\n",
    "        plt.plot(smoothed_steps)\n",
    "        plt.xlabel('Эпизод')\n",
    "        plt.ylabel('Длина траектории')\n",
    "        plt.title('Оценка длины траектории')\n",
    "\n",
    "        plt.tight_layout()\n",
    "        plt.show()"
   ]
  },
  {
   "cell_type": "code",
   "execution_count": 12,
   "metadata": {},
   "outputs": [
    {
     "name": "stderr",
     "output_type": "stream",
     "text": [
      "  0%|          | 0/500 [00:00<?, ?it/s]"
     ]
    },
    {
     "name": "stderr",
     "output_type": "stream",
     "text": [
      "  5%|▌         | 25/500 [05:38<1:08:13,  8.62s/it]"
     ]
    },
    {
     "name": "stdout",
     "output_type": "stream",
     "text": [
      "Run episode 25 with average reward -28.76 and epsilon 0.7121\r"
     ]
    },
    {
     "name": "stderr",
     "output_type": "stream",
     "text": [
      " 10%|█         | 50/500 [07:39<36:13,  4.83s/it]  "
     ]
    },
    {
     "name": "stdout",
     "output_type": "stream",
     "text": [
      "Run episode 50 with average reward -24.49 and epsilon 0.5658\r"
     ]
    },
    {
     "name": "stderr",
     "output_type": "stream",
     "text": [
      " 15%|█▌        | 75/500 [09:40<34:04,  4.81s/it]"
     ]
    },
    {
     "name": "stdout",
     "output_type": "stream",
     "text": [
      "Run episode 75 with average reward -20.64 and epsilon 0.4518\r"
     ]
    },
    {
     "name": "stderr",
     "output_type": "stream",
     "text": [
      " 20%|██        | 100/500 [11:41<32:02,  4.81s/it]"
     ]
    },
    {
     "name": "stdout",
     "output_type": "stream",
     "text": [
      "Run episode 100 with average reward -17.93 and epsilon 0.3630\r"
     ]
    },
    {
     "name": "stderr",
     "output_type": "stream",
     "text": [
      " 25%|██▌       | 125/500 [13:41<30:03,  4.81s/it]"
     ]
    },
    {
     "name": "stdout",
     "output_type": "stream",
     "text": [
      "Run episode 125 with average reward -15.55 and epsilon 0.2938\r"
     ]
    },
    {
     "name": "stderr",
     "output_type": "stream",
     "text": [
      " 30%|███       | 150/500 [15:44<27:57,  4.79s/it]"
     ]
    },
    {
     "name": "stdout",
     "output_type": "stream",
     "text": [
      "Run episode 150 with average reward -13.29 and epsilon 0.2399\r"
     ]
    },
    {
     "name": "stderr",
     "output_type": "stream",
     "text": [
      " 35%|███▌      | 175/500 [17:44<25:57,  4.79s/it]"
     ]
    },
    {
     "name": "stdout",
     "output_type": "stream",
     "text": [
      "Run episode 175 with average reward -11.97 and epsilon 0.1980\r"
     ]
    },
    {
     "name": "stderr",
     "output_type": "stream",
     "text": [
      " 40%|████      | 200/500 [19:43<23:55,  4.78s/it]"
     ]
    },
    {
     "name": "stdout",
     "output_type": "stream",
     "text": [
      "Run episode 200 with average reward -10.59 and epsilon 0.1653\r"
     ]
    },
    {
     "name": "stderr",
     "output_type": "stream",
     "text": [
      " 45%|████▌     | 225/500 [21:43<21:54,  4.78s/it]"
     ]
    },
    {
     "name": "stdout",
     "output_type": "stream",
     "text": [
      "Run episode 225 with average reward -9.37 and epsilon 0.1398\r"
     ]
    },
    {
     "name": "stderr",
     "output_type": "stream",
     "text": [
      " 50%|█████     | 250/500 [23:43<19:54,  4.78s/it]"
     ]
    },
    {
     "name": "stdout",
     "output_type": "stream",
     "text": [
      "Run episode 250 with average reward -8.57 and epsilon 0.1199\r"
     ]
    },
    {
     "name": "stderr",
     "output_type": "stream",
     "text": [
      " 55%|█████▌    | 275/500 [25:42<17:52,  4.77s/it]"
     ]
    },
    {
     "name": "stdout",
     "output_type": "stream",
     "text": [
      "Run episode 275 with average reward -7.89 and epsilon 0.1045\r"
     ]
    },
    {
     "name": "stderr",
     "output_type": "stream",
     "text": [
      " 60%|██████    | 300/500 [27:42<15:55,  4.78s/it]"
     ]
    },
    {
     "name": "stdout",
     "output_type": "stream",
     "text": [
      "Run episode 300 with average reward -7.22 and epsilon 0.0924\r"
     ]
    },
    {
     "name": "stderr",
     "output_type": "stream",
     "text": [
      " 65%|██████▌   | 325/500 [29:43<14:01,  4.81s/it]"
     ]
    },
    {
     "name": "stdout",
     "output_type": "stream",
     "text": [
      "Run episode 325 with average reward -6.87 and epsilon 0.0831\r"
     ]
    },
    {
     "name": "stderr",
     "output_type": "stream",
     "text": [
      " 70%|███████   | 350/500 [31:42<11:52,  4.75s/it]"
     ]
    },
    {
     "name": "stdout",
     "output_type": "stream",
     "text": [
      "Run episode 350 with average reward -6.35 and epsilon 0.0758\r"
     ]
    },
    {
     "name": "stderr",
     "output_type": "stream",
     "text": [
      " 75%|███████▌  | 375/500 [33:41<09:54,  4.75s/it]"
     ]
    },
    {
     "name": "stdout",
     "output_type": "stream",
     "text": [
      "Run episode 375 with average reward -5.65 and epsilon 0.0701\r"
     ]
    },
    {
     "name": "stderr",
     "output_type": "stream",
     "text": [
      " 80%|████████  | 400/500 [35:40<07:54,  4.75s/it]"
     ]
    },
    {
     "name": "stdout",
     "output_type": "stream",
     "text": [
      "Run episode 400 with average reward -4.94 and epsilon 0.0656\r"
     ]
    },
    {
     "name": "stderr",
     "output_type": "stream",
     "text": [
      " 85%|████████▌ | 425/500 [37:39<06:03,  4.84s/it]"
     ]
    },
    {
     "name": "stdout",
     "output_type": "stream",
     "text": [
      "Run episode 425 with average reward -4.26 and epsilon 0.0622\r"
     ]
    },
    {
     "name": "stderr",
     "output_type": "stream",
     "text": [
      " 90%|█████████ | 450/500 [39:42<04:00,  4.82s/it]"
     ]
    },
    {
     "name": "stdout",
     "output_type": "stream",
     "text": [
      "Run episode 450 with average reward -3.40 and epsilon 0.0595\r"
     ]
    },
    {
     "name": "stderr",
     "output_type": "stream",
     "text": [
      " 95%|█████████▌| 475/500 [41:45<02:02,  4.91s/it]"
     ]
    },
    {
     "name": "stdout",
     "output_type": "stream",
     "text": [
      "Run episode 475 with average reward -2.46 and epsilon 0.0574\r"
     ]
    },
    {
     "name": "stderr",
     "output_type": "stream",
     "text": [
      "100%|██████████| 500/500 [43:47<00:00,  5.26s/it]"
     ]
    },
    {
     "name": "stdout",
     "output_type": "stream",
     "text": [
      "Run episode 500 with average reward -2.04 and epsilon 0.0558\r"
     ]
    },
    {
     "name": "stderr",
     "output_type": "stream",
     "text": [
      "\n"
     ]
    },
    {
     "data": {
      "image/png": "[encoded data removed]",
      "text/plain": [
       "<Figure size 800x1200 with 2 Axes>"
      ]
     },
     "metadata": {},
     "output_type": "display_data"
    }
   ],
   "source": [
    "agent4 = A2CAgent(gym.make(\"MountainCarContinuous-v0\"),\n",
    "                  LR=1E-4, HDIM=64, DEVICE=\"mps\")\n",
    "\n",
    "agent4.train(500, 25)\n",
    "agent4.plot_rewards()"
   ]
  },
  {
   "cell_type": "code",
   "execution_count": 13,
   "metadata": {},
   "outputs": [
    {
     "name": "stderr",
     "output_type": "stream",
     "text": [
      "  2%|▏         | 10/500 [00:52<42:48,  5.24s/it]"
     ]
    },
    {
     "name": "stdout",
     "output_type": "stream",
     "text": [
      "Run episode 10 with average reward -29.85 and epsilon 0.8192\r"
     ]
    },
    {
     "name": "stderr",
     "output_type": "stream",
     "text": [
      "  4%|▍         | 20/500 [01:44<40:13,  5.03s/it]"
     ]
    },
    {
     "name": "stdout",
     "output_type": "stream",
     "text": [
      "Run episode 20 with average reward -27.56 and epsilon 0.7461\r"
     ]
    },
    {
     "name": "stderr",
     "output_type": "stream",
     "text": [
      "  6%|▌         | 30/500 [02:33<38:50,  4.96s/it]"
     ]
    },
    {
     "name": "stdout",
     "output_type": "stream",
     "text": [
      "Run episode 30 with average reward -25.26 and epsilon 0.6799\r"
     ]
    },
    {
     "name": "stderr",
     "output_type": "stream",
     "text": [
      "  8%|▊         | 40/500 [03:23<37:28,  4.89s/it]"
     ]
    },
    {
     "name": "stdout",
     "output_type": "stream",
     "text": [
      "Run episode 40 with average reward -23.61 and epsilon 0.6200\r"
     ]
    },
    {
     "name": "stderr",
     "output_type": "stream",
     "text": [
      " 10%|█         | 50/500 [04:11<36:12,  4.83s/it]"
     ]
    },
    {
     "name": "stdout",
     "output_type": "stream",
     "text": [
      "Run episode 50 with average reward -22.23 and epsilon 0.5658\r"
     ]
    },
    {
     "name": "stderr",
     "output_type": "stream",
     "text": [
      " 12%|█▏        | 60/500 [04:59<35:18,  4.81s/it]"
     ]
    },
    {
     "name": "stdout",
     "output_type": "stream",
     "text": [
      "Run episode 60 with average reward -20.36 and epsilon 0.5168\r"
     ]
    },
    {
     "name": "stderr",
     "output_type": "stream",
     "text": [
      " 14%|█▍        | 70/500 [05:48<34:30,  4.81s/it]"
     ]
    },
    {
     "name": "stdout",
     "output_type": "stream",
     "text": [
      "Run episode 70 with average reward -18.38 and epsilon 0.4724\r"
     ]
    },
    {
     "name": "stderr",
     "output_type": "stream",
     "text": [
      " 16%|█▌        | 80/500 [06:36<33:36,  4.80s/it]"
     ]
    },
    {
     "name": "stdout",
     "output_type": "stream",
     "text": [
      "Run episode 80 with average reward -16.91 and epsilon 0.4322\r"
     ]
    },
    {
     "name": "stderr",
     "output_type": "stream",
     "text": [
      " 18%|█▊        | 90/500 [07:24<32:45,  4.79s/it]"
     ]
    },
    {
     "name": "stdout",
     "output_type": "stream",
     "text": [
      "Run episode 90 with average reward -15.76 and epsilon 0.3959\r"
     ]
    },
    {
     "name": "stderr",
     "output_type": "stream",
     "text": [
      " 20%|██        | 100/500 [08:12<31:56,  4.79s/it]"
     ]
    },
    {
     "name": "stdout",
     "output_type": "stream",
     "text": [
      "Run episode 100 with average reward -15.09 and epsilon 0.3630\r"
     ]
    },
    {
     "name": "stderr",
     "output_type": "stream",
     "text": [
      " 22%|██▏       | 110/500 [09:00<31:05,  4.78s/it]"
     ]
    },
    {
     "name": "stdout",
     "output_type": "stream",
     "text": [
      "Run episode 110 with average reward -14.71 and epsilon 0.3333\r"
     ]
    },
    {
     "name": "stderr",
     "output_type": "stream",
     "text": [
      " 24%|██▍       | 120/500 [09:47<30:07,  4.76s/it]"
     ]
    },
    {
     "name": "stdout",
     "output_type": "stream",
     "text": [
      "Run episode 120 with average reward -13.64 and epsilon 0.3063\r"
     ]
    },
    {
     "name": "stderr",
     "output_type": "stream",
     "text": [
      " 26%|██▌       | 130/500 [10:35<29:18,  4.75s/it]"
     ]
    },
    {
     "name": "stdout",
     "output_type": "stream",
     "text": [
      "Run episode 130 with average reward -13.07 and epsilon 0.2820\r"
     ]
    },
    {
     "name": "stderr",
     "output_type": "stream",
     "text": [
      " 28%|██▊       | 140/500 [11:23<29:00,  4.83s/it]"
     ]
    },
    {
     "name": "stdout",
     "output_type": "stream",
     "text": [
      "Run episode 140 with average reward -12.61 and epsilon 0.2599\r"
     ]
    },
    {
     "name": "stderr",
     "output_type": "stream",
     "text": [
      " 30%|███       | 150/500 [12:12<28:19,  4.86s/it]"
     ]
    },
    {
     "name": "stdout",
     "output_type": "stream",
     "text": [
      "Run episode 150 with average reward -11.98 and epsilon 0.2399\r"
     ]
    },
    {
     "name": "stderr",
     "output_type": "stream",
     "text": [
      " 32%|███▏      | 160/500 [13:00<28:04,  4.95s/it]"
     ]
    },
    {
     "name": "stdout",
     "output_type": "stream",
     "text": [
      "Run episode 160 with average reward -11.61 and epsilon 0.2219\r"
     ]
    },
    {
     "name": "stderr",
     "output_type": "stream",
     "text": [
      " 34%|███▍      | 170/500 [13:51<27:59,  5.09s/it]"
     ]
    },
    {
     "name": "stdout",
     "output_type": "stream",
     "text": [
      "Run episode 170 with average reward -10.82 and epsilon 0.2055\r"
     ]
    },
    {
     "name": "stderr",
     "output_type": "stream",
     "text": [
      " 36%|███▌      | 180/500 [14:39<25:36,  4.80s/it]"
     ]
    },
    {
     "name": "stdout",
     "output_type": "stream",
     "text": [
      "Run episode 180 with average reward -10.51 and epsilon 0.1908\r"
     ]
    },
    {
     "name": "stderr",
     "output_type": "stream",
     "text": [
      " 38%|███▊      | 190/500 [15:29<25:59,  5.03s/it]"
     ]
    },
    {
     "name": "stdout",
     "output_type": "stream",
     "text": [
      "Run episode 190 with average reward -10.11 and epsilon 0.1774\r"
     ]
    },
    {
     "name": "stderr",
     "output_type": "stream",
     "text": [
      " 40%|████      | 200/500 [16:18<24:06,  4.82s/it]"
     ]
    },
    {
     "name": "stdout",
     "output_type": "stream",
     "text": [
      "Run episode 200 with average reward -9.79 and epsilon 0.1653\r"
     ]
    },
    {
     "name": "stderr",
     "output_type": "stream",
     "text": [
      " 42%|████▏     | 210/500 [17:07<23:18,  4.82s/it]"
     ]
    },
    {
     "name": "stdout",
     "output_type": "stream",
     "text": [
      "Run episode 210 with average reward -9.26 and epsilon 0.1543\r"
     ]
    },
    {
     "name": "stderr",
     "output_type": "stream",
     "text": [
      " 44%|████▍     | 220/500 [17:55<22:30,  4.82s/it]"
     ]
    },
    {
     "name": "stdout",
     "output_type": "stream",
     "text": [
      "Run episode 220 with average reward -9.32 and epsilon 0.1444\r"
     ]
    },
    {
     "name": "stderr",
     "output_type": "stream",
     "text": [
      " 46%|████▌     | 230/500 [18:43<21:41,  4.82s/it]"
     ]
    },
    {
     "name": "stdout",
     "output_type": "stream",
     "text": [
      "Run episode 230 with average reward -8.88 and epsilon 0.1354\r"
     ]
    },
    {
     "name": "stderr",
     "output_type": "stream",
     "text": [
      " 48%|████▊     | 240/500 [19:32<20:43,  4.78s/it]"
     ]
    },
    {
     "name": "stdout",
     "output_type": "stream",
     "text": [
      "Run episode 240 with average reward -8.55 and epsilon 0.1273\r"
     ]
    },
    {
     "name": "stderr",
     "output_type": "stream",
     "text": [
      " 50%|█████     | 250/500 [20:19<19:54,  4.78s/it]"
     ]
    },
    {
     "name": "stdout",
     "output_type": "stream",
     "text": [
      "Run episode 250 with average reward -8.49 and epsilon 0.1199\r"
     ]
    },
    {
     "name": "stderr",
     "output_type": "stream",
     "text": [
      " 52%|█████▏    | 260/500 [21:07<19:06,  4.78s/it]"
     ]
    },
    {
     "name": "stdout",
     "output_type": "stream",
     "text": [
      "Run episode 260 with average reward -7.92 and epsilon 0.1133\r"
     ]
    },
    {
     "name": "stderr",
     "output_type": "stream",
     "text": [
      " 54%|█████▍    | 270/500 [21:54<18:11,  4.75s/it]"
     ]
    },
    {
     "name": "stdout",
     "output_type": "stream",
     "text": [
      "Run episode 270 with average reward -8.13 and epsilon 0.1073\r"
     ]
    },
    {
     "name": "stderr",
     "output_type": "stream",
     "text": [
      " 56%|█████▌    | 280/500 [22:42<17:27,  4.76s/it]"
     ]
    },
    {
     "name": "stdout",
     "output_type": "stream",
     "text": [
      "Run episode 280 with average reward -7.85 and epsilon 0.1018\r"
     ]
    },
    {
     "name": "stderr",
     "output_type": "stream",
     "text": [
      " 58%|█████▊    | 290/500 [23:30<16:42,  4.78s/it]"
     ]
    },
    {
     "name": "stdout",
     "output_type": "stream",
     "text": [
      "Run episode 290 with average reward -7.59 and epsilon 0.0969\r"
     ]
    },
    {
     "name": "stderr",
     "output_type": "stream",
     "text": [
      " 60%|██████    | 300/500 [24:18<15:56,  4.78s/it]"
     ]
    },
    {
     "name": "stdout",
     "output_type": "stream",
     "text": [
      "Run episode 300 with average reward -7.74 and epsilon 0.0924\r"
     ]
    },
    {
     "name": "stderr",
     "output_type": "stream",
     "text": [
      " 62%|██████▏   | 310/500 [25:06<15:30,  4.90s/it]"
     ]
    },
    {
     "name": "stdout",
     "output_type": "stream",
     "text": [
      "Run episode 310 with average reward -7.49 and epsilon 0.0884\r"
     ]
    },
    {
     "name": "stderr",
     "output_type": "stream",
     "text": [
      " 64%|██████▍   | 320/500 [25:55<14:29,  4.83s/it]"
     ]
    },
    {
     "name": "stdout",
     "output_type": "stream",
     "text": [
      "Run episode 320 with average reward -7.20 and epsilon 0.0848\r"
     ]
    },
    {
     "name": "stderr",
     "output_type": "stream",
     "text": [
      " 66%|██████▌   | 330/500 [26:43<13:27,  4.75s/it]"
     ]
    },
    {
     "name": "stdout",
     "output_type": "stream",
     "text": [
      "Run episode 330 with average reward -7.26 and epsilon 0.0815\r"
     ]
    },
    {
     "name": "stderr",
     "output_type": "stream",
     "text": [
      " 68%|██████▊   | 340/500 [27:30<12:36,  4.73s/it]"
     ]
    },
    {
     "name": "stdout",
     "output_type": "stream",
     "text": [
      "Run episode 340 with average reward -7.21 and epsilon 0.0785\r"
     ]
    },
    {
     "name": "stderr",
     "output_type": "stream",
     "text": [
      " 70%|███████   | 350/500 [28:17<11:47,  4.72s/it]"
     ]
    },
    {
     "name": "stdout",
     "output_type": "stream",
     "text": [
      "Run episode 350 with average reward -7.07 and epsilon 0.0758\r"
     ]
    },
    {
     "name": "stderr",
     "output_type": "stream",
     "text": [
      " 72%|███████▏  | 360/500 [29:04<11:02,  4.73s/it]"
     ]
    },
    {
     "name": "stdout",
     "output_type": "stream",
     "text": [
      "Run episode 360 with average reward -6.81 and epsilon 0.0733\r"
     ]
    },
    {
     "name": "stderr",
     "output_type": "stream",
     "text": [
      " 74%|███████▍  | 370/500 [29:52<10:17,  4.75s/it]"
     ]
    },
    {
     "name": "stdout",
     "output_type": "stream",
     "text": [
      "Run episode 370 with average reward -6.82 and epsilon 0.0711\r"
     ]
    },
    {
     "name": "stderr",
     "output_type": "stream",
     "text": [
      " 76%|███████▌  | 380/500 [30:39<09:29,  4.75s/it]"
     ]
    },
    {
     "name": "stdout",
     "output_type": "stream",
     "text": [
      "Run episode 380 with average reward -6.92 and epsilon 0.0691\r"
     ]
    },
    {
     "name": "stderr",
     "output_type": "stream",
     "text": [
      " 78%|███████▊  | 390/500 [31:27<08:41,  4.75s/it]"
     ]
    },
    {
     "name": "stdout",
     "output_type": "stream",
     "text": [
      "Run episode 390 with average reward -6.71 and epsilon 0.0673\r"
     ]
    },
    {
     "name": "stderr",
     "output_type": "stream",
     "text": [
      " 80%|████████  | 400/500 [32:14<07:57,  4.78s/it]"
     ]
    },
    {
     "name": "stdout",
     "output_type": "stream",
     "text": [
      "Run episode 400 with average reward -6.87 and epsilon 0.0656\r"
     ]
    },
    {
     "name": "stderr",
     "output_type": "stream",
     "text": [
      " 82%|████████▏ | 410/500 [33:02<07:09,  4.77s/it]"
     ]
    },
    {
     "name": "stdout",
     "output_type": "stream",
     "text": [
      "Run episode 410 with average reward -6.62 and epsilon 0.0641\r"
     ]
    },
    {
     "name": "stderr",
     "output_type": "stream",
     "text": [
      " 84%|████████▍ | 420/500 [33:50<06:21,  4.77s/it]"
     ]
    },
    {
     "name": "stdout",
     "output_type": "stream",
     "text": [
      "Run episode 420 with average reward -6.64 and epsilon 0.0628\r"
     ]
    },
    {
     "name": "stderr",
     "output_type": "stream",
     "text": [
      " 86%|████████▌ | 430/500 [34:37<05:33,  4.77s/it]"
     ]
    },
    {
     "name": "stdout",
     "output_type": "stream",
     "text": [
      "Run episode 430 with average reward -6.71 and epsilon 0.0616\r"
     ]
    },
    {
     "name": "stderr",
     "output_type": "stream",
     "text": [
      " 88%|████████▊ | 440/500 [35:25<04:46,  4.77s/it]"
     ]
    },
    {
     "name": "stdout",
     "output_type": "stream",
     "text": [
      "Run episode 440 with average reward -6.52 and epsilon 0.0605\r"
     ]
    },
    {
     "name": "stderr",
     "output_type": "stream",
     "text": [
      " 90%|█████████ | 450/500 [36:13<03:59,  4.78s/it]"
     ]
    },
    {
     "name": "stdout",
     "output_type": "stream",
     "text": [
      "Run episode 450 with average reward -6.72 and epsilon 0.0595\r"
     ]
    },
    {
     "name": "stderr",
     "output_type": "stream",
     "text": [
      " 92%|█████████▏| 460/500 [37:01<03:11,  4.79s/it]"
     ]
    },
    {
     "name": "stdout",
     "output_type": "stream",
     "text": [
      "Run episode 460 with average reward -6.63 and epsilon 0.0586\r"
     ]
    },
    {
     "name": "stderr",
     "output_type": "stream",
     "text": [
      " 94%|█████████▍| 470/500 [37:48<02:23,  4.79s/it]"
     ]
    },
    {
     "name": "stdout",
     "output_type": "stream",
     "text": [
      "Run episode 470 with average reward -6.52 and epsilon 0.0578\r"
     ]
    },
    {
     "name": "stderr",
     "output_type": "stream",
     "text": [
      " 96%|█████████▌| 480/500 [38:36<01:35,  4.79s/it]"
     ]
    },
    {
     "name": "stdout",
     "output_type": "stream",
     "text": [
      "Run episode 480 with average reward -6.49 and epsilon 0.0570\r"
     ]
    },
    {
     "name": "stderr",
     "output_type": "stream",
     "text": [
      " 98%|█████████▊| 490/500 [39:24<00:47,  4.78s/it]"
     ]
    },
    {
     "name": "stdout",
     "output_type": "stream",
     "text": [
      "Run episode 490 with average reward -6.50 and epsilon 0.0564\r"
     ]
    },
    {
     "name": "stderr",
     "output_type": "stream",
     "text": [
      "100%|██████████| 500/500 [40:12<00:00,  4.82s/it]"
     ]
    },
    {
     "name": "stdout",
     "output_type": "stream",
     "text": [
      "Run episode 500 with average reward -6.51 and epsilon 0.0558\r"
     ]
    },
    {
     "name": "stderr",
     "output_type": "stream",
     "text": [
      "\n"
     ]
    },
    {
     "data": {
      "image/png": "[encoded data removed]",
      "text/plain": [
       "<Figure size 800x1200 with 2 Axes>"
      ]
     },
     "metadata": {},
     "output_type": "display_data"
    }
   ],
   "source": [
    "agent5 = A2CAgent(gym.make(\"MountainCarContinuous-v0\"),\n",
    "                  LR=1E-3, HDIM=64, DEVICE=\"mps\")\n",
    "\n",
    "agent5.train(500, 10)\n",
    "agent5.plot_rewards()"
   ]
  }
 ],
 "metadata": {
  "kernelspec": {
   "display_name": "RL",
   "language": "python",
   "name": "python3"
  },
  "language_info": {
   "codemirror_mode": {
    "name": "ipython",
    "version": 3
   },
   "file_extension": ".py",
   "mimetype": "text/x-python",
   "name": "python",
   "nbconvert_exporter": "python",
   "pygments_lexer": "ipython3",
   "version": "3.11.8"
  }
 },
 "nbformat": 4,
 "nbformat_minor": 2
}
